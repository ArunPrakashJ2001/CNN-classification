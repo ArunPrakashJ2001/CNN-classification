{
 "cells": [
  {
   "cell_type": "code",
   "execution_count": 7,
   "metadata": {},
   "outputs": [],
   "source": [
    "import os\n",
    "import cv2\n",
    "import numpy as np\n",
    "import tensorflow as tf\n",
    "import matplotlib.pyplot as plt\n",
    "from tensorflow.keras import datasets, layers, models,regularizers\n",
    "from sklearn.preprocessing import LabelEncoder\n",
    "from sklearn.model_selection import train_test_split\n",
    "import json"
   ]
  },
  {
   "cell_type": "code",
   "execution_count": 2,
   "metadata": {},
   "outputs": [],
   "source": [
    "datset_path = \"C:/Users/Hp/Desktop/Classes/CNN_classification/DataSet\"\n",
    "\n",
    "train_data_path = os.path.join(datset_path,'training')\n",
    "test_data_path = os.path.join(datset_path,'test')"
   ]
  },
  {
   "cell_type": "markdown",
   "metadata": {},
   "source": [
    "## Processing Training data\n"
   ]
  },
  {
   "cell_type": "code",
   "execution_count": 3,
   "metadata": {},
   "outputs": [],
   "source": [
    "class_labels=[]\n",
    "features=[]\n",
    "WIDTH=HEIGHT=64\n",
    "\n",
    "for file in os.listdir(train_data_path):\n",
    "    img_path=os.path.join(train_data_path,file)\n",
    "    current_label=file\n",
    "    for img in os.listdir(img_path):\n",
    "        image = plt.imread(os.path.join(img_path,img))\n",
    "        class_labels.append(current_label)\n",
    "        img = image.reshape([WIDTH, HEIGHT, 3])\n",
    "        features.append(img)"
   ]
  },
  {
   "cell_type": "code",
   "execution_count": 4,
   "metadata": {},
   "outputs": [],
   "source": [
    "x_train=np.array(features)\n",
    "targetNames=np.unique(class_labels)\n",
    "le=LabelEncoder()\n",
    "y_train=le.fit_transform(class_labels)"
   ]
  },
  {
   "cell_type": "code",
   "execution_count": 5,
   "metadata": {},
   "outputs": [
    {
     "name": "stdout",
     "output_type": "stream",
     "text": [
      "Shape of x_train:  (5875, 64, 64, 3)\n",
      "Shape of y_train:  (5875,)\n"
     ]
    }
   ],
   "source": [
    "print(\"Shape of x_train: \",np.shape(x_train))\n",
    "print(\"Shape of y_train: \",np.shape(y_train))"
   ]
  },
  {
   "cell_type": "code",
   "execution_count": 12,
   "metadata": {},
   "outputs": [],
   "source": [
    "X_train, X_test, Y_train, Y_test = train_test_split(x_train, y_train, test_size=0.3, random_state=42)"
   ]
  },
  {
   "cell_type": "code",
   "execution_count": 13,
   "metadata": {},
   "outputs": [],
   "source": [
    "X_train=np.array(X_train)\n",
    "Y_train=np.array(Y_train)\n",
    "X_test=np.array(X_test)\n",
    "Y_test=np.array(Y_test)"
   ]
  },
  {
   "cell_type": "code",
   "execution_count": 14,
   "metadata": {},
   "outputs": [
    {
     "name": "stdout",
     "output_type": "stream",
     "text": [
      "Shape of x_train:  (4112, 64, 64, 3)\n",
      "Shape of y_train:  (4112,)\n",
      "Shape of X_test:  (1763, 64, 64, 3)\n",
      "Shape of y_test:  (1763,)\n"
     ]
    }
   ],
   "source": [
    "print(\"Shape of x_train: \",np.shape(X_train))\n",
    "print(\"Shape of y_train: \",np.shape(Y_train))\n",
    "\n",
    "\n",
    "print(\"Shape of X_test: \",np.shape(X_test))\n",
    "print(\"Shape of y_test: \",np.shape(Y_test))"
   ]
  },
  {
   "cell_type": "markdown",
   "metadata": {},
   "source": [
    "## Training the model"
   ]
  },
  {
   "cell_type": "markdown",
   "metadata": {},
   "source": [
    "### CNN-NN"
   ]
  },
  {
   "cell_type": "code",
   "execution_count": 27,
   "metadata": {},
   "outputs": [],
   "source": [
    "model1 = models.Sequential([\n",
    "    layers.Conv2D(filters=128, kernel_size=(3, 3), activation='relu', input_shape=(64, 64, 3)),\n",
    "    layers.MaxPooling2D((2, 2)),\n",
    "    \n",
    "    layers.Conv2D(filters=64, kernel_size=(3, 3), activation='relu'),\n",
    "    layers.MaxPooling2D((2, 2)),\n",
    "    \n",
    "    layers.Conv2D(filters=32, kernel_size=(3, 3), activation='relu'),\n",
    "    layers.MaxPooling2D((2, 2)),\n",
    "    \n",
    "    layers.Conv2D(filters=16, kernel_size=(3, 3), activation='relu'),\n",
    "    layers.MaxPooling2D((2, 2)),\n",
    "    \n",
    "    layers.Flatten(),\n",
    "    layers.Dense(64, activation='relu'),\n",
    "    layers.Dense(1,activation = \"sigmoid\")\n",
    "])"
   ]
  },
  {
   "cell_type": "code",
   "execution_count": null,
   "metadata": {},
   "outputs": [],
   "source": [
    "model1.compile(optimizer='adam',loss='binary_crossentropy', metrics=['accuracy'])\n",
    "history=cnn.fit(X_train, Y_train, validation_data=(X_test,Y_test),epochs=10)"
   ]
  },
  {
   "cell_type": "markdown",
   "metadata": {},
   "source": [
    "### CNN-SVM"
   ]
  },
  {
   "cell_type": "code",
   "execution_count": 9,
   "metadata": {},
   "outputs": [],
   "source": [
    "model2 = models.Sequential([\n",
    "    layers.Conv2D(filters=128, kernel_size=(3, 3), activation='relu', input_shape=(64, 64, 3)),\n",
    "    layers.MaxPooling2D((2, 2)),\n",
    "    \n",
    "    layers.Conv2D(filters=64, kernel_size=(3, 3), activation='relu'),\n",
    "    layers.MaxPooling2D((2, 2)),\n",
    "    \n",
    "    layers.Conv2D(filters=32, kernel_size=(3, 3), activation='relu'),\n",
    "    layers.MaxPooling2D((2, 2)),\n",
    "    \n",
    "    layers.Conv2D(filters=16, kernel_size=(3, 3), activation='relu'),\n",
    "    layers.MaxPooling2D((2, 2)),\n",
    "    \n",
    "    layers.Flatten(),\n",
    "    layers.Dense(64, activation='relu'),\n",
    "    layers.Dense(1,kernel_regularizer=regularizers.l2(0.01),activation = \"linear\")\n",
    "])"
   ]
  },
  {
   "cell_type": "code",
   "execution_count": 21,
   "metadata": {},
   "outputs": [
    {
     "name": "stdout",
     "output_type": "stream",
     "text": [
      "Epoch 1/30\n",
      "129/129 [==============================] - 7s 53ms/step - loss: 0.1244 - accuracy: 0.9499 - val_loss: 0.1539 - val_accuracy: 0.9387\n",
      "Epoch 2/30\n",
      "129/129 [==============================] - 9s 71ms/step - loss: 0.1252 - accuracy: 0.9484 - val_loss: 0.1322 - val_accuracy: 0.9484\n",
      "Epoch 3/30\n",
      "129/129 [==============================] - 9s 66ms/step - loss: 0.1024 - accuracy: 0.9553 - val_loss: 0.1232 - val_accuracy: 0.9484\n",
      "Epoch 4/30\n",
      "129/129 [==============================] - 8s 64ms/step - loss: 0.1271 - accuracy: 0.9472 - val_loss: 0.1381 - val_accuracy: 0.9438\n",
      "Epoch 5/30\n",
      "129/129 [==============================] - 9s 69ms/step - loss: 0.1119 - accuracy: 0.9521 - val_loss: 0.1113 - val_accuracy: 0.9501\n",
      "Epoch 6/30\n",
      "129/129 [==============================] - 7s 50ms/step - loss: 0.0837 - accuracy: 0.9621 - val_loss: 0.3157 - val_accuracy: 0.9280\n",
      "Epoch 7/30\n",
      "129/129 [==============================] - 8s 58ms/step - loss: 0.1111 - accuracy: 0.9545 - val_loss: 0.3380 - val_accuracy: 0.9058\n",
      "Epoch 8/30\n",
      "129/129 [==============================] - 8s 64ms/step - loss: 0.1489 - accuracy: 0.9397 - val_loss: 0.1642 - val_accuracy: 0.9501\n",
      "Epoch 9/30\n",
      "129/129 [==============================] - 8s 64ms/step - loss: 0.0851 - accuracy: 0.9635 - val_loss: 0.1622 - val_accuracy: 0.9461\n",
      "Epoch 10/30\n",
      "129/129 [==============================] - 7s 55ms/step - loss: 0.0931 - accuracy: 0.9625 - val_loss: 0.0955 - val_accuracy: 0.9609\n",
      "Epoch 11/30\n",
      "129/129 [==============================] - 8s 65ms/step - loss: 0.0816 - accuracy: 0.9664 - val_loss: 0.0943 - val_accuracy: 0.9626\n",
      "Epoch 12/30\n",
      "129/129 [==============================] - 9s 68ms/step - loss: 0.0715 - accuracy: 0.9715 - val_loss: 0.1943 - val_accuracy: 0.9524\n",
      "Epoch 13/30\n",
      "129/129 [==============================] - 8s 62ms/step - loss: 0.0741 - accuracy: 0.9686 - val_loss: 0.1062 - val_accuracy: 0.9682\n",
      "Epoch 14/30\n",
      "129/129 [==============================] - 9s 72ms/step - loss: 0.0436 - accuracy: 0.9820 - val_loss: 0.0857 - val_accuracy: 0.9665\n",
      "Epoch 15/30\n",
      "129/129 [==============================] - 6s 49ms/step - loss: 0.0436 - accuracy: 0.9839 - val_loss: 0.0836 - val_accuracy: 0.9739\n",
      "Epoch 16/30\n",
      "129/129 [==============================] - 8s 60ms/step - loss: 0.0599 - accuracy: 0.9786 - val_loss: 0.1150 - val_accuracy: 0.9660\n",
      "Epoch 17/30\n",
      "129/129 [==============================] - 6s 47ms/step - loss: 0.0571 - accuracy: 0.9801 - val_loss: 0.0905 - val_accuracy: 0.9631\n",
      "Epoch 18/30\n",
      "129/129 [==============================] - 7s 56ms/step - loss: 0.0607 - accuracy: 0.9801 - val_loss: 0.1480 - val_accuracy: 0.9586\n",
      "Epoch 19/30\n",
      "129/129 [==============================] - 8s 59ms/step - loss: 0.0366 - accuracy: 0.9849 - val_loss: 0.1118 - val_accuracy: 0.9733\n",
      "Epoch 20/30\n",
      "129/129 [==============================] - 7s 53ms/step - loss: 0.0354 - accuracy: 0.9869 - val_loss: 0.1049 - val_accuracy: 0.9773\n",
      "Epoch 21/30\n",
      "129/129 [==============================] - 8s 65ms/step - loss: 0.0961 - accuracy: 0.9652 - val_loss: 0.0967 - val_accuracy: 0.9705\n",
      "Epoch 22/30\n",
      "129/129 [==============================] - 8s 64ms/step - loss: 0.0465 - accuracy: 0.9844 - val_loss: 0.0846 - val_accuracy: 0.9745\n",
      "Epoch 23/30\n",
      "129/129 [==============================] - 4s 31ms/step - loss: 0.0267 - accuracy: 0.9903 - val_loss: 0.0641 - val_accuracy: 0.9807\n",
      "Epoch 24/30\n",
      "129/129 [==============================] - 4s 32ms/step - loss: 0.0257 - accuracy: 0.9912 - val_loss: 0.0928 - val_accuracy: 0.9750\n",
      "Epoch 25/30\n",
      "129/129 [==============================] - 9s 73ms/step - loss: 0.0235 - accuracy: 0.9908 - val_loss: 0.1217 - val_accuracy: 0.9870\n",
      "Epoch 26/30\n",
      "129/129 [==============================] - 4s 32ms/step - loss: 0.0186 - accuracy: 0.9934 - val_loss: 0.1547 - val_accuracy: 0.9784\n",
      "Epoch 27/30\n",
      "129/129 [==============================] - 7s 52ms/step - loss: 0.0562 - accuracy: 0.9869 - val_loss: 0.5327 - val_accuracy: 0.9189\n",
      "Epoch 28/30\n",
      "129/129 [==============================] - 4s 33ms/step - loss: 0.0921 - accuracy: 0.9684 - val_loss: 0.0623 - val_accuracy: 0.9784\n",
      "Epoch 29/30\n",
      "129/129 [==============================] - 4s 34ms/step - loss: 0.0277 - accuracy: 0.9900 - val_loss: 0.2790 - val_accuracy: 0.9558\n",
      "Epoch 30/30\n",
      "129/129 [==============================] - 7s 51ms/step - loss: 0.0301 - accuracy: 0.9881 - val_loss: 0.1128 - val_accuracy: 0.9762\n"
     ]
    }
   ],
   "source": [
    "model2.compile(optimizer='adam',loss='hinge', metrics=['accuracy'])\n",
    "history=cnn.fit(X_train, Y_train, validation_data=(X_test,Y_test),epochs=30)"
   ]
  },
  {
   "cell_type": "code",
   "execution_count": 22,
   "metadata": {},
   "outputs": [
    {
     "data": {
      "text/plain": [
       "<matplotlib.legend.Legend at 0x1bdbf50dcd0>"
      ]
     },
     "execution_count": 22,
     "metadata": {},
     "output_type": "execute_result"
    },
    {
     "data": {
      "image/png": "[encoded data removed]",
      "text/plain": [
       "<Figure size 432x288 with 1 Axes>"
      ]
     },
     "metadata": {
      "needs_background": "light"
     },
     "output_type": "display_data"
    }
   ],
   "source": [
    "plt.title('Loss')\n",
    "plt.plot(history.history['loss'], label='train')\n",
    "plt.plot(history.history['val_loss'], label='test')\n",
    "plt.legend()          "
   ]
  },
  {
   "cell_type": "code",
   "execution_count": 23,
   "metadata": {},
   "outputs": [],
   "source": [
    "test_images = []\n",
    "\n",
    "for img in os.listdir(test_data_path):\n",
    "    test_image = plt.imread(os.path.join(test_data_path,img))\n",
    "    test_images.append(test_image.reshape([WIDTH, HEIGHT, 3]))\n",
    "test_images = np.array(test_images)"
   ]
  },
  {
   "cell_type": "code",
   "execution_count": 24,
   "metadata": {},
   "outputs": [],
   "source": [
    "final_preds=[]\n",
    "model_predictions = model1.predict(test_images)\n",
    "\n",
    "for i in model_predictions:\n",
    "    if(i >= 1):\n",
    "        final_preds.append(1)\n",
    "    else:\n",
    "        final_preds.append(0)\n"
   ]
  },
  {
   "cell_type": "markdown",
   "metadata": {},
   "source": [
    "## Model accuracy"
   ]
  },
  {
   "cell_type": "code",
   "execution_count": 25,
   "metadata": {},
   "outputs": [],
   "source": [
    "def model_accuracy(final_preds):\n",
    "    manual_preds=[1,0,1,0,1,0,1,0,1,0,1,0,1,0,1,0,1,0,1,1,1,1,1,1,1,1,1,1,1,1,0,0,0,0,0,0,0,0,0,1,0,1,0,1,0,1,0,1,0,1,\n",
    "                 1,1,1,1,1,0,0,0,0,0,1,1,1,0,0,0,1,1,1,1,1,1,1,0,0,0,0,0,0,0,1,1,1,1,0,0,0,0,0,1,1,1,1,1,0,0,0,0]\n",
    "    return sum(1 for x,y in zip(manual_preds,final_preds) if x == y) / float(len(final_preds))"
   ]
  },
  {
   "cell_type": "code",
   "execution_count": 28,
   "metadata": {},
   "outputs": [
    {
     "data": {
      "text/plain": [
       "0.5918367346938775"
      ]
     },
     "execution_count": 28,
     "metadata": {},
     "output_type": "execute_result"
    }
   ],
   "source": [
    "model_accuracy(final_preds) "
   ]
  },
  {
   "cell_type": "markdown",
   "metadata": {},
   "source": [
    "## Results to Json file"
   ]
  },
  {
   "cell_type": "code",
   "execution_count": 31,
   "metadata": {},
   "outputs": [],
   "source": [
    "dictio={}\n",
    "for i,j in enumerate(os.listdir(test_data_path)):\n",
    "    dictio[j] = final_preds[i]"
   ]
  },
  {
   "cell_type": "code",
   "execution_count": 32,
   "metadata": {},
   "outputs": [],
   "source": [
    "def write_json(filename, result):\n",
    "    with open(filename, 'w') as outfile:\n",
    "        json.dump(result, outfile)\n",
    "\n",
    "def generate_sample_file(filename):\n",
    "    write_json(filename, dictio)\n",
    "\n",
    "\n",
    "generate_sample_file('./result.json')"
   ]
  }
 ],
 "metadata": {
  "interpreter": {
   "hash": "ac59ebe37160ed0dfa835113d9b8498d9f09ceb179beaac4002f036b9467c963"
  },
  "kernelspec": {
   "display_name": "Python 3",
   "language": "python",
   "name": "python3"
  },
  "language_info": {
   "codemirror_mode": {
    "name": "ipython",
    "version": 3
   },
   "file_extension": ".py",
   "mimetype": "text/x-python",
   "name": "python",
   "nbconvert_exporter": "python",
   "pygments_lexer": "ipython3",
   "version": "3.8.3"
  }
 },
 "nbformat": 4,
 "nbformat_minor": 2
}
