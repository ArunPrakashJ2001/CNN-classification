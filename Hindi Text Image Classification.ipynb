{
 "cells": [
  {
   "cell_type": "code",
   "execution_count": 1,
   "metadata": {},
   "outputs": [],
   "source": [
    "import os\n",
    "import cv2\n",
    "import numpy as np\n",
    "import tensorflow as tf\n",
    "import matplotlib.pyplot as plt\n",
    "from tensorflow.keras import datasets, layers, models\n",
    "from sklearn.preprocessing import LabelEncoder\n",
    "from sklearn.model_selection import train_test_split\n",
    "import json"
   ]
  },
  {
   "cell_type": "code",
   "execution_count": 2,
   "metadata": {},
   "outputs": [],
   "source": [
    "datset_path = \"C:/Users/Hp/Desktop/Classes/CNN_classification/DataSet\"\n",
    "\n",
    "train_data_path = os.path.join(datset_path,'training')\n",
    "test_data_path = os.path.join(datset_path,'test')"
   ]
  },
  {
   "cell_type": "markdown",
   "metadata": {},
   "source": [
    "## Processing Training data\n"
   ]
  },
  {
   "cell_type": "code",
   "execution_count": 125,
   "metadata": {},
   "outputs": [],
   "source": [
    "class_labels=[]\n",
    "features=[]\n",
    "WIDTH=HEIGHT=64\n",
    "\n",
    "for file in os.listdir(train_data_path):\n",
    "    img_path=os.path.join(train_data_path,file)\n",
    "    current_label=file\n",
    "    for img in os.listdir(img_path):\n",
    "        image = plt.imread(os.path.join(img_path,img))\n",
    "        class_labels.append(current_label)\n",
    "        img = image.reshape([WIDTH, HEIGHT, 3])\n",
    "        features.append(img)"
   ]
  },
  {
   "cell_type": "code",
   "execution_count": 126,
   "metadata": {},
   "outputs": [],
   "source": [
    "x_train=np.array(features)\n",
    "targetNames=np.unique(class_labels)\n",
    "le=LabelEncoder()\n",
    "y_train=le.fit_transform(class_labels)"
   ]
  },
  {
   "cell_type": "code",
   "execution_count": 127,
   "metadata": {},
   "outputs": [
    {
     "name": "stdout",
     "output_type": "stream",
     "text": [
      "Shape of x_train:  (5875, 64, 64, 3)\n",
      "Shape of y_train:  (5875,)\n"
     ]
    }
   ],
   "source": [
    "print(\"Shape of x_train: \",np.shape(x_train))\n",
    "print(\"Shape of y_train: \",np.shape(y_train))"
   ]
  },
  {
   "cell_type": "code",
   "execution_count": 140,
   "metadata": {},
   "outputs": [],
   "source": [
    "X_train, X_test, Y_train, Y_test = train_test_split(x_train, y_train, test_size=0.3, random_state=42)"
   ]
  },
  {
   "cell_type": "code",
   "execution_count": 141,
   "metadata": {},
   "outputs": [],
   "source": [
    "X_train=np.array(X_train)\n",
    "Y_train=np.array(Y_train)\n",
    "X_test=np.array(X_test)\n",
    "Y_test=np.array(Y_test)"
   ]
  },
  {
   "cell_type": "code",
   "execution_count": 142,
   "metadata": {},
   "outputs": [
    {
     "name": "stdout",
     "output_type": "stream",
     "text": [
      "Shape of x_train:  (4112, 64, 64, 3)\n",
      "Shape of y_train:  (4112,)\n",
      "Shape of X_test:  (1763, 64, 64, 3)\n",
      "Shape of y_test:  (1763,)\n"
     ]
    }
   ],
   "source": [
    "print(\"Shape of x_train: \",np.shape(X_train))\n",
    "print(\"Shape of y_train: \",np.shape(Y_train))\n",
    "\n",
    "\n",
    "print(\"Shape of X_test: \",np.shape(X_test))\n",
    "print(\"Shape of y_test: \",np.shape(Y_test))"
   ]
  },
  {
   "cell_type": "markdown",
   "metadata": {},
   "source": [
    "## Training the model"
   ]
  },
  {
   "cell_type": "code",
   "execution_count": 143,
   "metadata": {},
   "outputs": [],
   "source": [
    "cnn = models.Sequential([\n",
    "    layers.Conv2D(filters=128, kernel_size=(3, 3), activation='relu', input_shape=(64, 64, 3)),\n",
    "    layers.MaxPooling2D((2, 2)),\n",
    "    \n",
    "    layers.Conv2D(filters=64, kernel_size=(3, 3), activation='relu'),\n",
    "    layers.MaxPooling2D((2, 2)),\n",
    "    \n",
    "    layers.Conv2D(filters=32, kernel_size=(3, 3), activation='relu'),\n",
    "    layers.MaxPooling2D((2, 2)),\n",
    "    \n",
    "    layers.Conv2D(filters=16, kernel_size=(3, 3), activation='relu'),\n",
    "    layers.MaxPooling2D((2, 2)),\n",
    "    \n",
    "    layers.Flatten(),\n",
    "    layers.Dense(64, activation='relu'),\n",
    "    layers.Dense(1, activation='sigmoid')\n",
    "])"
   ]
  },
  {
   "cell_type": "code",
   "execution_count": 144,
   "metadata": {},
   "outputs": [
    {
     "name": "stdout",
     "output_type": "stream",
     "text": [
      "Model: \"sequential_20\"\n",
      "_________________________________________________________________\n",
      "Layer (type)                 Output Shape              Param #   \n",
      "=================================================================\n",
      "conv2d_88 (Conv2D)           (None, 62, 62, 128)       3584      \n",
      "_________________________________________________________________\n",
      "max_pooling2d_88 (MaxPooling (None, 31, 31, 128)       0         \n",
      "_________________________________________________________________\n",
      "conv2d_89 (Conv2D)           (None, 29, 29, 64)        73792     \n",
      "_________________________________________________________________\n",
      "max_pooling2d_89 (MaxPooling (None, 14, 14, 64)        0         \n",
      "_________________________________________________________________\n",
      "conv2d_90 (Conv2D)           (None, 12, 12, 32)        18464     \n",
      "_________________________________________________________________\n",
      "max_pooling2d_90 (MaxPooling (None, 6, 6, 32)          0         \n",
      "_________________________________________________________________\n",
      "conv2d_91 (Conv2D)           (None, 4, 4, 16)          4624      \n",
      "_________________________________________________________________\n",
      "max_pooling2d_91 (MaxPooling (None, 2, 2, 16)          0         \n",
      "_________________________________________________________________\n",
      "flatten_20 (Flatten)         (None, 64)                0         \n",
      "_________________________________________________________________\n",
      "dense_40 (Dense)             (None, 64)                4160      \n",
      "_________________________________________________________________\n",
      "dense_41 (Dense)             (None, 1)                 65        \n",
      "=================================================================\n",
      "Total params: 104,689\n",
      "Trainable params: 104,689\n",
      "Non-trainable params: 0\n",
      "_________________________________________________________________\n"
     ]
    }
   ],
   "source": [
    "cnn.summary()"
   ]
  },
  {
   "cell_type": "code",
   "execution_count": 145,
   "metadata": {},
   "outputs": [
    {
     "name": "stdout",
     "output_type": "stream",
     "text": [
      "Epoch 1/10\n",
      "129/129 [==============================] - 8s 56ms/step - loss: 0.9218 - accuracy: 0.7291 - val_loss: 0.4298 - val_accuracy: 0.8100\n",
      "Epoch 2/10\n",
      "129/129 [==============================] - 4s 32ms/step - loss: 0.3253 - accuracy: 0.8750 - val_loss: 0.2371 - val_accuracy: 0.9126\n",
      "Epoch 3/10\n",
      "129/129 [==============================] - 6s 50ms/step - loss: 0.2123 - accuracy: 0.9214 - val_loss: 0.2079 - val_accuracy: 0.9314\n",
      "Epoch 4/10\n",
      "129/129 [==============================] - 7s 53ms/step - loss: 0.1911 - accuracy: 0.9356 - val_loss: 0.1870 - val_accuracy: 0.9450\n",
      "Epoch 5/10\n",
      "129/129 [==============================] - 5s 36ms/step - loss: 0.2017 - accuracy: 0.9321 - val_loss: 0.1683 - val_accuracy: 0.9410\n",
      "Epoch 6/10\n",
      "129/129 [==============================] - 5s 36ms/step - loss: 0.1574 - accuracy: 0.9446 - val_loss: 0.1651 - val_accuracy: 0.9416\n",
      "Epoch 7/10\n",
      "129/129 [==============================] - 5s 37ms/step - loss: 0.1499 - accuracy: 0.9499 - val_loss: 0.1575 - val_accuracy: 0.9478\n",
      "Epoch 8/10\n",
      "129/129 [==============================] - 7s 54ms/step - loss: 0.1383 - accuracy: 0.9489 - val_loss: 0.1495 - val_accuracy: 0.9472\n",
      "Epoch 9/10\n",
      "129/129 [==============================] - 5s 38ms/step - loss: 0.1487 - accuracy: 0.9475 - val_loss: 0.3406 - val_accuracy: 0.9138\n",
      "Epoch 10/10\n",
      "129/129 [==============================] - 5s 38ms/step - loss: 0.1361 - accuracy: 0.9514 - val_loss: 0.1120 - val_accuracy: 0.9603\n"
     ]
    }
   ],
   "source": [
    "cnn.compile(optimizer='adam',loss='binary_crossentropy', metrics=['accuracy'])\n",
    "history=cnn.fit(X_train, Y_train, validation_data=(X_test,Y_test),epochs=10)"
   ]
  },
  {
   "cell_type": "code",
   "execution_count": 146,
   "metadata": {},
   "outputs": [
    {
     "data": {
      "text/plain": [
       "<matplotlib.legend.Legend at 0x209d66247c0>"
      ]
     },
     "execution_count": 146,
     "metadata": {},
     "output_type": "execute_result"
    },
    {
     "data": {
      "image/png": "[encoded data removed]",
      "text/plain": [
       "<Figure size 432x288 with 1 Axes>"
      ]
     },
     "metadata": {
      "needs_background": "light"
     },
     "output_type": "display_data"
    }
   ],
   "source": [
    "plt.title('Loss')\n",
    "plt.plot(history.history['loss'], label='train')\n",
    "plt.plot(history.history['val_loss'], label='test')\n",
    "plt.legend()          "
   ]
  },
  {
   "cell_type": "code",
   "execution_count": 147,
   "metadata": {},
   "outputs": [],
   "source": [
    "test_images = []\n",
    "\n",
    "for img in os.listdir(test_data_path):\n",
    "    test_image = plt.imread(os.path.join(test_data_path,img))\n",
    "    test_images.append(test_image.reshape([WIDTH, HEIGHT, 3]))\n",
    "test_images = np.array(test_images)"
   ]
  },
  {
   "cell_type": "code",
   "execution_count": 148,
   "metadata": {},
   "outputs": [],
   "source": [
    "final_preds=[]\n",
    "model_predictions = cnn.predict(test_images)\n",
    "\n",
    "for i in model_predictions:\n",
    "    if(i >= 1):\n",
    "        final_preds.append(1)\n",
    "    else:\n",
    "        final_preds.append(0)\n"
   ]
  },
  {
   "cell_type": "markdown",
   "metadata": {},
   "source": [
    "## Model accuracy"
   ]
  },
  {
   "cell_type": "code",
   "execution_count": 101,
   "metadata": {},
   "outputs": [],
   "source": [
    "def model_accuracy(final_preds):\n",
    "    manual_preds=[1,0,1,0,1,0,1,0,1,0,1,0,1,0,1,0,1,0,1,1,1,1,1,1,1,1,1,1,1,1,0,0,0,0,0,0,0,0,0,1,0,1,0,1,0,1,0,1,0,1,\n",
    "                 1,1,1,1,1,0,0,0,0,0,1,1,1,0,0,0,1,1,1,1,1,1,1,0,0,0,0,0,0,0,1,1,1,1,0,0,0,0,0,1,1,1,1,1,0,0,0,0]\n",
    "    return sum(1 for x,y in zip(manual_preds,final_preds) if x == y) / float(len(final_preds))"
   ]
  },
  {
   "cell_type": "code",
   "execution_count": 149,
   "metadata": {},
   "outputs": [
    {
     "data": {
      "text/plain": [
       "0.5408163265306123"
      ]
     },
     "execution_count": 149,
     "metadata": {},
     "output_type": "execute_result"
    }
   ],
   "source": [
    "model_accuracy(final_preds) "
   ]
  },
  {
   "cell_type": "markdown",
   "metadata": {},
   "source": [
    "## Results to Json file"
   ]
  },
  {
   "cell_type": "code",
   "execution_count": null,
   "metadata": {},
   "outputs": [],
   "source": [
    "dictio={}\n",
    "for i,j in enumerate(os.listdir(test_data_path)):\n",
    "    dictio[j] = result[i]"
   ]
  },
  {
   "cell_type": "code",
   "execution_count": null,
   "metadata": {},
   "outputs": [],
   "source": [
    "def write_json(filename, result):\n",
    "    with open(filename, 'w') as outfile:\n",
    "        json.dump(result, outfile)\n",
    "\n",
    "def generate_sample_file(filename):\n",
    "    write_json(filename, dictio)\n",
    "\n",
    "\n",
    "generate_sample_file('./result.json')"
   ]
  }
 ],
 "metadata": {
  "interpreter": {
   "hash": "ac59ebe37160ed0dfa835113d9b8498d9f09ceb179beaac4002f036b9467c963"
  },
  "kernelspec": {
   "display_name": "Python 3",
   "language": "python",
   "name": "python3"
  },
  "language_info": {
   "codemirror_mode": {
    "name": "ipython",
    "version": 3
   },
   "file_extension": ".py",
   "mimetype": "text/x-python",
   "name": "python",
   "nbconvert_exporter": "python",
   "pygments_lexer": "ipython3",
   "version": "3.8.3"
  }
 },
 "nbformat": 4,
 "nbformat_minor": 2
}
