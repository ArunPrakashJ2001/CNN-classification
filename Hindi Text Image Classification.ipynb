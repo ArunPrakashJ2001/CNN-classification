{
 "cells": [
  {
   "cell_type": "code",
   "execution_count": 1,
   "metadata": {},
   "outputs": [],
   "source": [
    "import os\n",
    "import cv2\n",
    "import numpy as np\n",
    "import tensorflow as tf\n",
    "import matplotlib.pyplot as plt\n",
    "from tensorflow.keras import datasets, layers, models,regularizers\n",
    "from sklearn.preprocessing import LabelEncoder\n",
    "from sklearn.model_selection import train_test_split\n",
    "import json"
   ]
  },
  {
   "cell_type": "code",
   "execution_count": 2,
   "metadata": {},
   "outputs": [],
   "source": [
    "datset_path = \"C:/Users/Hp/Desktop/Classes/CNN_classification/DataSet\"\n",
    "\n",
    "train_data_path = os.path.join(datset_path,'training')\n",
    "test_data_path = os.path.join(datset_path,'test')"
   ]
  },
  {
   "cell_type": "markdown",
   "metadata": {},
   "source": [
    "## Processing Training data\n"
   ]
  },
  {
   "cell_type": "code",
   "execution_count": 3,
   "metadata": {},
   "outputs": [],
   "source": [
    "class_labels=[]\n",
    "features=[]\n",
    "WIDTH=HEIGHT=64\n",
    "\n",
    "for file in os.listdir(train_data_path):\n",
    "    img_path=os.path.join(train_data_path,file)\n",
    "    current_label=file\n",
    "    for img in os.listdir(img_path):\n",
    "        image = plt.imread(os.path.join(img_path,img))\n",
    "        class_labels.append(current_label)\n",
    "        img = image.reshape([WIDTH, HEIGHT, 3])\n",
    "        features.append(img)"
   ]
  },
  {
   "cell_type": "code",
   "execution_count": 4,
   "metadata": {},
   "outputs": [],
   "source": [
    "x_train=np.array(features)\n",
    "targetNames=np.unique(class_labels)\n",
    "le=LabelEncoder()\n",
    "y_train=le.fit_transform(class_labels)"
   ]
  },
  {
   "cell_type": "code",
   "execution_count": 5,
   "metadata": {},
   "outputs": [
    {
     "name": "stdout",
     "output_type": "stream",
     "text": [
      "Shape of x_train:  (5875, 64, 64, 3)\n",
      "Shape of y_train:  (5875,)\n"
     ]
    }
   ],
   "source": [
    "print(\"Shape of x_train: \",np.shape(x_train))\n",
    "print(\"Shape of y_train: \",np.shape(y_train))"
   ]
  },
  {
   "cell_type": "code",
   "execution_count": 6,
   "metadata": {},
   "outputs": [],
   "source": [
    "X_train, X_test, Y_train, Y_test = train_test_split(x_train, y_train, test_size=0.3, random_state=42)"
   ]
  },
  {
   "cell_type": "code",
   "execution_count": 7,
   "metadata": {},
   "outputs": [],
   "source": [
    "X_train=np.array(X_train)\n",
    "Y_train=np.array(Y_train)\n",
    "X_test=np.array(X_test)\n",
    "Y_test=np.array(Y_test)"
   ]
  },
  {
   "cell_type": "code",
   "execution_count": 8,
   "metadata": {},
   "outputs": [
    {
     "name": "stdout",
     "output_type": "stream",
     "text": [
      "Shape of x_train:  (4112, 64, 64, 3)\n",
      "Shape of y_train:  (4112,)\n",
      "Shape of X_test:  (1763, 64, 64, 3)\n",
      "Shape of y_test:  (1763,)\n"
     ]
    }
   ],
   "source": [
    "print(\"Shape of x_train: \",np.shape(X_train))\n",
    "print(\"Shape of y_train: \",np.shape(Y_train))\n",
    "\n",
    "\n",
    "print(\"Shape of X_test: \",np.shape(X_test))\n",
    "print(\"Shape of y_test: \",np.shape(Y_test))"
   ]
  },
  {
   "cell_type": "markdown",
   "metadata": {},
   "source": [
    "## Training the model"
   ]
  },
  {
   "cell_type": "markdown",
   "metadata": {},
   "source": [
    "### CNN-NN"
   ]
  },
  {
   "cell_type": "code",
   "execution_count": 27,
   "metadata": {},
   "outputs": [],
   "source": [
    "model1 = models.Sequential([\n",
    "    layers.Conv2D(filters=128, kernel_size=(3, 3), activation='relu', input_shape=(64, 64, 3)),\n",
    "    layers.MaxPooling2D((2, 2)),\n",
    "    \n",
    "    layers.Conv2D(filters=64, kernel_size=(3, 3), activation='relu'),\n",
    "    layers.MaxPooling2D((2, 2)),\n",
    "    \n",
    "    layers.Conv2D(filters=32, kernel_size=(3, 3), activation='relu'),\n",
    "    layers.MaxPooling2D((2, 2)),\n",
    "    \n",
    "    layers.Conv2D(filters=16, kernel_size=(3, 3), activation='relu'),\n",
    "    layers.MaxPooling2D((2, 2)),\n",
    "    \n",
    "    layers.Flatten(),\n",
    "    layers.Dense(64, activation='relu'),\n",
    "    layers.Dense(1,activation = \"sigmoid\")\n",
    "])"
   ]
  },
  {
   "cell_type": "code",
   "execution_count": null,
   "metadata": {},
   "outputs": [],
   "source": [
    "model1.compile(optimizer='adam',loss='binary_crossentropy', metrics=['accuracy'])\n",
    "history=cnn.fit(X_train, Y_train, validation_data=(X_test,Y_test),epochs=10)"
   ]
  },
  {
   "cell_type": "markdown",
   "metadata": {},
   "source": [
    "### CNN-SVM"
   ]
  },
  {
   "cell_type": "code",
   "execution_count": 9,
   "metadata": {},
   "outputs": [],
   "source": [
    "model2 = models.Sequential([\n",
    "    layers.Conv2D(filters=128, kernel_size=(3, 3), activation='relu', input_shape=(64, 64, 3)),\n",
    "    layers.MaxPooling2D((2, 2)),\n",
    "    \n",
    "    layers.Conv2D(filters=64, kernel_size=(3, 3), activation='relu'),\n",
    "    layers.MaxPooling2D((2, 2)),\n",
    "    \n",
    "    layers.Conv2D(filters=32, kernel_size=(3, 3), activation='relu'),\n",
    "    layers.MaxPooling2D((2, 2)),\n",
    "    \n",
    "    layers.Conv2D(filters=16, kernel_size=(3, 3), activation='relu'),\n",
    "    layers.MaxPooling2D((2, 2)),\n",
    "    \n",
    "    layers.Flatten(),\n",
    "    layers.Dense(64, activation='relu'),\n",
    "    layers.Dense(1,kernel_regularizer=regularizers.l2(0.01),activation = \"linear\")\n",
    "])"
   ]
  },
  {
   "cell_type": "code",
   "execution_count": 10,
   "metadata": {},
   "outputs": [
    {
     "name": "stdout",
     "output_type": "stream",
     "text": [
      "Epoch 1/40\n",
      "129/129 [==============================] - 21s 77ms/step - loss: 1.0278 - accuracy: 0.7417 - val_loss: 0.5224 - val_accuracy: 0.7646\n",
      "Epoch 2/40\n",
      "129/129 [==============================] - 9s 66ms/step - loss: 0.4553 - accuracy: 0.7923 - val_loss: 0.3114 - val_accuracy: 0.8763\n",
      "Epoch 3/40\n",
      "129/129 [==============================] - 4s 27ms/step - loss: 0.2375 - accuracy: 0.8964 - val_loss: 0.1941 - val_accuracy: 0.9195\n",
      "Epoch 4/40\n",
      "129/129 [==============================] - 4s 28ms/step - loss: 0.1793 - accuracy: 0.9266 - val_loss: 0.1873 - val_accuracy: 0.9308\n",
      "Epoch 5/40\n",
      "129/129 [==============================] - 3s 26ms/step - loss: 0.1588 - accuracy: 0.9346 - val_loss: 0.1622 - val_accuracy: 0.9308\n",
      "Epoch 6/40\n",
      "129/129 [==============================] - 3s 25ms/step - loss: 0.1550 - accuracy: 0.9363 - val_loss: 0.1457 - val_accuracy: 0.9410\n",
      "Epoch 7/40\n",
      "129/129 [==============================] - 3s 25ms/step - loss: 0.1353 - accuracy: 0.9443 - val_loss: 0.1725 - val_accuracy: 0.9376\n",
      "Epoch 8/40\n",
      "129/129 [==============================] - 3s 25ms/step - loss: 0.1370 - accuracy: 0.9446 - val_loss: 0.1337 - val_accuracy: 0.9444\n",
      "Epoch 9/40\n",
      "129/129 [==============================] - 3s 25ms/step - loss: 0.1339 - accuracy: 0.9443 - val_loss: 0.1353 - val_accuracy: 0.9461\n",
      "Epoch 10/40\n",
      "129/129 [==============================] - 3s 25ms/step - loss: 0.1268 - accuracy: 0.9482 - val_loss: 0.1401 - val_accuracy: 0.9399\n",
      "Epoch 11/40\n",
      "129/129 [==============================] - 3s 25ms/step - loss: 0.1204 - accuracy: 0.9492 - val_loss: 0.1441 - val_accuracy: 0.9450\n",
      "Epoch 12/40\n",
      "129/129 [==============================] - 3s 25ms/step - loss: 0.1265 - accuracy: 0.9480 - val_loss: 0.1260 - val_accuracy: 0.9478\n",
      "Epoch 13/40\n",
      "129/129 [==============================] - 3s 25ms/step - loss: 0.1226 - accuracy: 0.9480 - val_loss: 0.1510 - val_accuracy: 0.9336\n",
      "Epoch 14/40\n",
      "129/129 [==============================] - 3s 25ms/step - loss: 0.1198 - accuracy: 0.9492 - val_loss: 0.2028 - val_accuracy: 0.9359\n",
      "Epoch 15/40\n",
      "129/129 [==============================] - 3s 25ms/step - loss: 0.1359 - accuracy: 0.9455 - val_loss: 0.1664 - val_accuracy: 0.9410\n",
      "Epoch 16/40\n",
      "129/129 [==============================] - 3s 25ms/step - loss: 0.1348 - accuracy: 0.9443 - val_loss: 0.1342 - val_accuracy: 0.9444\n",
      "Epoch 17/40\n",
      "129/129 [==============================] - 3s 25ms/step - loss: 0.1204 - accuracy: 0.9487 - val_loss: 0.1346 - val_accuracy: 0.9404\n",
      "Epoch 18/40\n",
      "129/129 [==============================] - 3s 25ms/step - loss: 0.1120 - accuracy: 0.9521 - val_loss: 0.1163 - val_accuracy: 0.9484\n",
      "Epoch 19/40\n",
      "129/129 [==============================] - 3s 26ms/step - loss: 0.1114 - accuracy: 0.9523 - val_loss: 0.1274 - val_accuracy: 0.9472\n",
      "Epoch 20/40\n",
      "129/129 [==============================] - 3s 25ms/step - loss: 0.1159 - accuracy: 0.9504 - val_loss: 0.1899 - val_accuracy: 0.9240\n",
      "Epoch 21/40\n",
      "129/129 [==============================] - 3s 25ms/step - loss: 0.1181 - accuracy: 0.9482 - val_loss: 0.1186 - val_accuracy: 0.9478\n",
      "Epoch 22/40\n",
      "129/129 [==============================] - 3s 27ms/step - loss: 0.1005 - accuracy: 0.9550 - val_loss: 0.1126 - val_accuracy: 0.9535\n",
      "Epoch 23/40\n",
      "129/129 [==============================] - 3s 26ms/step - loss: 0.0985 - accuracy: 0.9567 - val_loss: 0.1242 - val_accuracy: 0.9524\n",
      "Epoch 24/40\n",
      "129/129 [==============================] - 4s 27ms/step - loss: 0.1221 - accuracy: 0.9514 - val_loss: 0.1633 - val_accuracy: 0.9365\n",
      "Epoch 25/40\n",
      "129/129 [==============================] - 3s 25ms/step - loss: 0.0897 - accuracy: 0.9601 - val_loss: 0.0971 - val_accuracy: 0.9671\n",
      "Epoch 26/40\n",
      "129/129 [==============================] - 3s 26ms/step - loss: 0.0956 - accuracy: 0.9606 - val_loss: 0.1655 - val_accuracy: 0.9427\n",
      "Epoch 27/40\n",
      "129/129 [==============================] - 4s 29ms/step - loss: 0.0975 - accuracy: 0.9589 - val_loss: 0.1134 - val_accuracy: 0.9541\n",
      "Epoch 28/40\n",
      "129/129 [==============================] - 4s 31ms/step - loss: 0.0845 - accuracy: 0.9650 - val_loss: 0.1170 - val_accuracy: 0.9716\n",
      "Epoch 29/40\n",
      "129/129 [==============================] - 3s 26ms/step - loss: 0.0859 - accuracy: 0.9657 - val_loss: 0.0934 - val_accuracy: 0.9705\n",
      "Epoch 30/40\n",
      "129/129 [==============================] - 4s 28ms/step - loss: 0.0839 - accuracy: 0.9669 - val_loss: 0.1394 - val_accuracy: 0.9716\n",
      "Epoch 31/40\n",
      "129/129 [==============================] - 3s 26ms/step - loss: 0.1556 - accuracy: 0.9443 - val_loss: 0.1103 - val_accuracy: 0.9592\n",
      "Epoch 32/40\n",
      "129/129 [==============================] - 3s 25ms/step - loss: 0.0707 - accuracy: 0.9711 - val_loss: 0.1231 - val_accuracy: 0.9518\n",
      "Epoch 33/40\n",
      "129/129 [==============================] - 3s 25ms/step - loss: 0.0636 - accuracy: 0.9771 - val_loss: 0.1044 - val_accuracy: 0.9728\n",
      "Epoch 34/40\n",
      "129/129 [==============================] - 3s 26ms/step - loss: 0.0497 - accuracy: 0.9818 - val_loss: 0.1152 - val_accuracy: 0.9620\n",
      "Epoch 35/40\n",
      "129/129 [==============================] - 3s 26ms/step - loss: 0.0348 - accuracy: 0.9883 - val_loss: 0.0903 - val_accuracy: 0.9728\n",
      "Epoch 36/40\n",
      "129/129 [==============================] - 4s 29ms/step - loss: 0.0311 - accuracy: 0.9893 - val_loss: 0.0895 - val_accuracy: 0.9756\n",
      "Epoch 37/40\n",
      "129/129 [==============================] - 3s 27ms/step - loss: 0.0264 - accuracy: 0.9922 - val_loss: 0.1374 - val_accuracy: 0.9762\n",
      "Epoch 38/40\n",
      "129/129 [==============================] - 3s 26ms/step - loss: 0.0503 - accuracy: 0.9801 - val_loss: 0.0989 - val_accuracy: 0.9688\n",
      "Epoch 39/40\n",
      "129/129 [==============================] - 3s 26ms/step - loss: 0.0298 - accuracy: 0.9893 - val_loss: 0.0528 - val_accuracy: 0.9830\n",
      "Epoch 40/40\n",
      "129/129 [==============================] - 3s 25ms/step - loss: 0.0243 - accuracy: 0.9932 - val_loss: 0.0749 - val_accuracy: 0.9790\n"
     ]
    }
   ],
   "source": [
    "model2.compile(optimizer='adam',loss='hinge', metrics=['accuracy'])\n",
    "history=model2.fit(X_train, Y_train, validation_data=(X_test,Y_test),epochs=40)"
   ]
  },
  {
   "cell_type": "code",
   "execution_count": 11,
   "metadata": {},
   "outputs": [
    {
     "data": {
      "text/plain": [
       "<matplotlib.legend.Legend at 0x19dbaec3d90>"
      ]
     },
     "execution_count": 11,
     "metadata": {},
     "output_type": "execute_result"
    },
    {
     "data": {
      "image/png": "[encoded data removed]",
      "text/plain": [
       "<Figure size 432x288 with 1 Axes>"
      ]
     },
     "metadata": {
      "needs_background": "light"
     },
     "output_type": "display_data"
    }
   ],
   "source": [
    "plt.title('Loss')\n",
    "plt.plot(history.history['loss'], label='train')\n",
    "plt.plot(history.history['val_loss'], label='test')\n",
    "plt.legend()          "
   ]
  },
  {
   "cell_type": "code",
   "execution_count": 12,
   "metadata": {},
   "outputs": [],
   "source": [
    "test_images = []\n",
    "\n",
    "for img in os.listdir(test_data_path):\n",
    "    test_image = plt.imread(os.path.join(test_data_path,img))\n",
    "    test_images.append(test_image.reshape([WIDTH, HEIGHT, 3]))\n",
    "test_images = np.array(test_images)"
   ]
  },
  {
   "cell_type": "code",
   "execution_count": 13,
   "metadata": {},
   "outputs": [],
   "source": [
    "final_preds=[]\n",
    "model_predictions = model2.predict(test_images)\n",
    "\n",
    "for i in model_predictions:\n",
    "    if(i >= 1):\n",
    "        final_preds.append(1)\n",
    "    else:\n",
    "        final_preds.append(0)\n"
   ]
  },
  {
   "cell_type": "markdown",
   "metadata": {},
   "source": [
    "## Model accuracy"
   ]
  },
  {
   "cell_type": "code",
   "execution_count": 14,
   "metadata": {},
   "outputs": [],
   "source": [
    "def model_accuracy(final_preds):\n",
    "    manual_preds=[1,0,1,0,1,0,1,0,1,0,1,0,1,0,1,0,1,0,1,1,1,1,1,1,1,1,1,1,1,1,0,0,0,0,0,0,0,0,0,1,0,1,0,1,0,1,0,1,0,1,\n",
    "                 1,1,1,1,1,0,0,0,0,0,1,1,1,0,0,0,1,1,1,1,1,1,1,0,0,0,0,0,0,0,1,1,1,1,0,0,0,0,0,1,1,1,1,1,0,0,0,0]\n",
    "    return sum(1 for x,y in zip(manual_preds,final_preds) if x == y) / float(len(final_preds))"
   ]
  },
  {
   "cell_type": "code",
   "execution_count": 15,
   "metadata": {},
   "outputs": [
    {
     "data": {
      "text/plain": [
       "0.5918367346938775"
      ]
     },
     "execution_count": 15,
     "metadata": {},
     "output_type": "execute_result"
    }
   ],
   "source": [
    "model_accuracy(final_preds)   "
   ]
  },
  {
   "cell_type": "markdown",
   "metadata": {},
   "source": [
    "## Results to Json file"
   ]
  },
  {
   "cell_type": "code",
   "execution_count": 16,
   "metadata": {},
   "outputs": [],
   "source": [
    "dictio={}\n",
    "for i,j in enumerate(os.listdir(test_data_path)):\n",
    "    dictio[j] = final_preds[i]"
   ]
  },
  {
   "cell_type": "code",
   "execution_count": 17,
   "metadata": {},
   "outputs": [],
   "source": [
    "def write_json(filename, result):\n",
    "    with open(filename, 'w') as outfile:\n",
    "        json.dump(result, outfile)\n",
    "\n",
    "def generate_sample_file(filename):\n",
    "    write_json(filename, dictio)\n",
    "\n",
    "\n",
    "generate_sample_file('./result.json')"
   ]
  }
 ],
 "metadata": {
  "interpreter": {
   "hash": "ac59ebe37160ed0dfa835113d9b8498d9f09ceb179beaac4002f036b9467c963"
  },
  "kernelspec": {
   "display_name": "Python 3",
   "language": "python",
   "name": "python3"
  },
  "language_info": {
   "codemirror_mode": {
    "name": "ipython",
    "version": 3
   },
   "file_extension": ".py",
   "mimetype": "text/x-python",
   "name": "python",
   "nbconvert_exporter": "python",
   "pygments_lexer": "ipython3",
   "version": "3.8.3"
  }
 },
 "nbformat": 4,
 "nbformat_minor": 2
}
